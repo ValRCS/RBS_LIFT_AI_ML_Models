{
 "cells": [
  {
   "cell_type": "markdown",
   "id": "158f2c21",
   "metadata": {},
   "source": [
    "# 🧠 Session 3: Data Preparation Essentials"
   ]
  },
  {
   "cell_type": "markdown",
   "id": "742247e3",
   "metadata": {},
   "source": [
    "## 🕒 00:00–00:10 – Why Data Preparation Matters\n",
    "Data quality is critical in ML. Most of the work in real-world projects involves cleaning and preparing data.\n",
    "\n",
    "**Common problems:**\n",
    "- Missing values\n",
    "- Inconsistent formats\n",
    "- Duplicates\n",
    "- Outliers\n",
    "\n",
    "**Discussion:** What might happen if we skip this step?"
   ]
  },
  {
   "cell_type": "markdown",
   "id": "0f8d89c5",
   "metadata": {},
   "source": [
    "## 🕒 00:10–00:25 – Core Techniques in Data Preparation\n",
    "**1. Handling Missing Values**\n",
    "- Drop rows/columns\n",
    "- Impute with mean/median/mode\n",
    "- Model-based imputation\n",
    "\n",
    "**2. Encoding Categorical Variables**\n",
    "- One-hot encoding\n",
    "- Label encoding\n",
    "\n",
    "**3. Feature Scaling**\n",
    "- StandardScaler (Z-score)\n",
    "- MinMaxScaler (0–1 range)\n",
    "\n",
    "**4. Removing Duplicates and Fixing Data Types**\n",
    "- Use `.duplicated()`, `.drop_duplicates()`\n",
    "- Use `.astype()` for type conversion"
   ]
  },
  {
   "cell_type": "code",
   "execution_count": null,
   "id": "e089c606",
   "metadata": {},
   "outputs": [],
   "source": [
    "# TODO: Load your dataset and display basic info\n",
    "import pandas as pd\n",
    "# Example:\n",
    "# df = pd.read_csv('your_data.csv')\n",
    "# df.info()"
   ]
  },
  {
   "cell_type": "code",
   "execution_count": null,
   "id": "4a3f1700",
   "metadata": {},
   "outputs": [],
   "source": [
    "# TODO: Check for missing values\n",
    "# df.isnull().sum()"
   ]
  },
  {
   "cell_type": "code",
   "execution_count": null,
   "id": "598b3985",
   "metadata": {},
   "outputs": [],
   "source": [
    "# TODO: Encode categorical variables if needed\n",
    "# Use pd.get_dummies() or sklearn.preprocessing.LabelEncoder"
   ]
  },
  {
   "cell_type": "code",
   "execution_count": null,
   "id": "18968d26",
   "metadata": {},
   "outputs": [],
   "source": [
    "# TODO: Scale numerical features if needed\n",
    "# from sklearn.preprocessing import StandardScaler, MinMaxScaler"
   ]
  },
  {
   "cell_type": "markdown",
   "id": "5fb35d5e",
   "metadata": {},
   "source": [
    "## 🕒 00:25–00:40 – Feature Engineering Overview\n",
    "**Feature Engineering Techniques:**\n",
    "- Date/time decomposition\n",
    "- Text statistics (length, keywords)\n",
    "- Interaction terms (feature combinations)\n",
    "- Binning (e.g., age groups)\n",
    "\n",
    "**Prompt:**\n",
    "_“If you had a dataset of bike rentals with timestamps and weather, what features would you create?”_"
   ]
  },
  {
   "cell_type": "code",
   "execution_count": null,
   "id": "cf2bc58c",
   "metadata": {},
   "outputs": [],
   "source": [
    "# TODO: Create new features from existing ones\n",
    "# Example: df['hour'] = pd.to_datetime(df['timestamp']).dt.hour"
   ]
  },
  {
   "cell_type": "markdown",
   "id": "445afe0d",
   "metadata": {},
   "source": [
    "## 🕒 00:40–00:45 – Recap & Prep for Next Session\n",
    "**Recap:**\n",
    "- Data cleaning is essential\n",
    "- Proper preparation improves model performance\n",
    "\n",
    "**Next:**\n",
    "Preview your dataset using the following commands."
   ]
  },
  {
   "cell_type": "code",
   "execution_count": null,
   "id": "24210b94",
   "metadata": {},
   "outputs": [],
   "source": [
    "# TODO: Preview your cleaned data\n",
    "# df.describe()"
   ]
  },
  {
   "cell_type": "markdown",
   "id": "dad133f1",
   "metadata": {},
   "source": [
    "## ✅ Exit Reflection\n",
    "_Which part of your own project data might require the most cleaning?_"
   ]
  }
 ],
 "metadata": {
  "language_info": {
   "name": "python"
  }
 },
 "nbformat": 4,
 "nbformat_minor": 5
}
