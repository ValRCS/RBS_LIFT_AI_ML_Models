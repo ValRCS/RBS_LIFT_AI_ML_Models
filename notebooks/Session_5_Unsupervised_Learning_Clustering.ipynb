{
 "cells": [
  {
   "cell_type": "markdown",
   "id": "e2310a90",
   "metadata": {},
   "source": [
    "# 🧠 Session 5: Introduction to Unsupervised Learning"
   ]
  },
  {
   "cell_type": "markdown",
   "id": "55a1806a",
   "metadata": {},
   "source": [
    "## 🕒 00:00–00:15 — What is Unsupervised Learning?\n",
    "**Unsupervised Learning** algorithms learn from data **without labels**.\n",
    "\n",
    "**Key Goals:**\n",
    "- Discover patterns or structure in data\n",
    "- Group similar items together\n",
    "- Reduce the dimensionality of complex datasets\n",
    "\n",
    "**Use Cases:**\n",
    "- Customer segmentation\n",
    "- Anomaly detection\n",
    "- Topic modeling in documents\n",
    "\n",
    "**Comparison Table:**\n",
    "\n",
    "| Task                     | Supervised | Unsupervised        |\n",
    "|--------------------------|------------|----------------------|\n",
    "| Email Spam Detection     | ✅         | ❌                   |\n",
    "| Customer Grouping        | ❌         | ✅                   |\n",
    "| Image Labeling           | ✅         | ❌                   |\n",
    "| Topic Modeling in Text   | ❌         | ✅                   |\n",
    "\n",
    "_Prompt: Can you think of data you have access to that has no labels?_"
   ]
  },
  {
   "cell_type": "markdown",
   "id": "e2c52ad8",
   "metadata": {},
   "source": [
    "## 🕒 00:15–00:30 — K-Means and Hierarchical Clustering\n",
    "**K-Means Clustering**\n",
    "- Partition data into k groups\n",
    "- Fast and scalable\n",
    "- Sensitive to initial starting conditions\n",
    "\n",
    "**Hierarchical Clustering**\n",
    "- Builds a tree-like structure (dendrogram)\n",
    "- Good for understanding nested structure\n",
    "- Computationally expensive for large datasets\n",
    "\n",
    "**Visuals:**\n",
    "- Clustered scatterplots\n",
    "- Dendrogram diagrams\n",
    "\n",
    "_How do these two methods differ in flexibility and interpretation?_"
   ]
  },
  {
   "cell_type": "markdown",
   "id": "cb067031",
   "metadata": {},
   "source": [
    "## 🕒 00:30–00:45 — Live Coding: Clustering Iris Dataset (No Labels)"
   ]
  },
  {
   "cell_type": "code",
   "execution_count": null,
   "id": "3cfff516",
   "metadata": {},
   "outputs": [],
   "source": [
    "# Load the Iris dataset and drop labels\n",
    "from sklearn.datasets import load_iris\n",
    "import pandas as pd\n",
    "\n",
    "iris = load_iris(as_frame=True)\n",
    "df = iris.frame.drop(columns='target')  # Drop the labels\n",
    "df.head()"
   ]
  },
  {
   "cell_type": "code",
   "execution_count": null,
   "id": "7811c57f",
   "metadata": {},
   "outputs": [],
   "source": [
    "# Apply K-Means clustering\n",
    "from sklearn.cluster import KMeans\n",
    "\n",
    "kmeans = KMeans(n_clusters=3, random_state=42)\n",
    "clusters = kmeans.fit_predict(df)\n",
    "\n",
    "df['cluster'] = clusters\n",
    "df.head()"
   ]
  },
  {
   "cell_type": "code",
   "execution_count": null,
   "id": "3fd23d13",
   "metadata": {},
   "outputs": [],
   "source": [
    "# Visualize clustering results using seaborn pairplot\n",
    "import seaborn as sns\n",
    "import matplotlib.pyplot as plt\n",
    "\n",
    "sns.pairplot(df, hue='cluster', palette='Set1')\n",
    "plt.suptitle('K-Means Clustering (Iris without labels)', y=1.02)\n",
    "plt.show()"
   ]
  },
  {
   "cell_type": "code",
   "execution_count": null,
   "id": "71b976cf",
   "metadata": {},
   "outputs": [],
   "source": [
    "# Optional: Apply Hierarchical Clustering and plot dendrogram\n",
    "from scipy.cluster.hierarchy import dendrogram, linkage\n",
    "\n",
    "linked = linkage(df.drop(columns='cluster'), method='ward')\n",
    "\n",
    "plt.figure(figsize=(10, 5))\n",
    "dendrogram(linked, truncate_mode='lastp', p=20, leaf_rotation=45., leaf_font_size=12.)\n",
    "plt.title('Hierarchical Clustering Dendrogram')\n",
    "plt.xlabel('Sample Index')\n",
    "plt.ylabel('Distance')\n",
    "plt.show()"
   ]
  },
  {
   "cell_type": "markdown",
   "id": "f6470474",
   "metadata": {},
   "source": [
    "## ✅ Session Summary\n",
    "- Unsupervised learning finds patterns without labeled data\n",
    "- K-Means and Hierarchical clustering are two common techniques\n",
    "- We used the Iris dataset without labels to group flowers\n",
    "\n",
    "_Reflection: Did the clustering groupings resemble the species you know?_"
   ]
  }
 ],
 "metadata": {},
 "nbformat": 4,
 "nbformat_minor": 5
}
