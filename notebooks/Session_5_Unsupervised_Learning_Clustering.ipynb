{
 "cells": [
  {
   "cell_type": "markdown",
   "id": "aa78ec34",
   "metadata": {},
   "source": [
    "# 🧠 Session 5: Introduction to Unsupervised Learning (with Bonus Exercises)"
   ]
  },
  {
   "cell_type": "markdown",
   "id": "da62e1ef",
   "metadata": {},
   "source": [
    "## 🕒 00:00–00:15 — What is Unsupervised Learning?\n",
    "**Unsupervised Learning** algorithms learn from data **without labels**.\n",
    "\n",
    "**Key Goals:**\n",
    "- Discover patterns or structure in data\n",
    "- Group similar items together\n",
    "- Reduce the dimensionality of complex datasets\n",
    "\n",
    "**Use Cases:**\n",
    "- Customer segmentation\n",
    "- Anomaly detection\n",
    "- Topic modeling in documents\n",
    "\n",
    "**Comparison Table:**\n",
    "\n",
    "| Task                     | Supervised | Unsupervised        |\n",
    "|--------------------------|------------|----------------------|\n",
    "| Email Spam Detection     | ✅         | ❌                   |\n",
    "| Customer Grouping        | ❌         | ✅                   |\n",
    "| Image Labeling           | ✅         | ❌                   |\n",
    "| Topic Modeling in Text   | ❌         | ✅                   |\n",
    "\n",
    "_Prompt: Can you think of data you have access to that has no labels?_"
   ]
  },
  {
   "cell_type": "markdown",
   "id": "4d8d533c",
   "metadata": {},
   "source": [
    "## 🕒 00:15–00:30 — K-Means and Hierarchical Clustering\n",
    "**K-Means Clustering**\n",
    "- Partition data into k groups\n",
    "- Fast and scalable\n",
    "- Sensitive to initial starting conditions\n",
    "\n",
    "**Hierarchical Clustering**\n",
    "- Builds a tree-like structure (dendrogram)\n",
    "- Good for understanding nested structure\n",
    "- Computationally expensive for large datasets\n",
    "\n",
    "**Visuals:**\n",
    "- Clustered scatterplots\n",
    "- Dendrogram diagrams\n",
    "\n",
    "_How do these two methods differ in flexibility and interpretation?_"
   ]
  },
  {
   "cell_type": "markdown",
   "id": "93ddedec",
   "metadata": {},
   "source": [
    "## 🕒 00:30–00:45 — Live Coding: Clustering Iris Dataset (No Labels)"
   ]
  },
  {
   "cell_type": "code",
   "execution_count": null,
   "id": "38febb4a",
   "metadata": {},
   "outputs": [],
   "source": [
    "# Load the Iris dataset and drop labels\n",
    "from sklearn.datasets import load_iris\n",
    "import pandas as pd\n",
    "\n",
    "iris = load_iris(as_frame=True)\n",
    "df = iris.frame.drop(columns='target')\n",
    "df.head()"
   ]
  },
  {
   "cell_type": "code",
   "execution_count": null,
   "id": "10da239b",
   "metadata": {},
   "outputs": [],
   "source": [
    "# Apply K-Means clustering\n",
    "from sklearn.cluster import KMeans\n",
    "\n",
    "kmeans = KMeans(n_clusters=3, random_state=42)\n",
    "clusters = kmeans.fit_predict(df)\n",
    "\n",
    "df['cluster'] = clusters\n",
    "df.head()"
   ]
  },
  {
   "cell_type": "code",
   "execution_count": null,
   "id": "09c6c242",
   "metadata": {},
   "outputs": [],
   "source": [
    "# Visualize clustering results using seaborn pairplot\n",
    "import seaborn as sns\n",
    "import matplotlib.pyplot as plt\n",
    "\n",
    "sns.pairplot(df, hue='cluster', palette='Set1')\n",
    "plt.suptitle('K-Means Clustering (Iris without labels)', y=1.02)\n",
    "plt.show()"
   ]
  },
  {
   "cell_type": "code",
   "execution_count": null,
   "id": "90c6305a",
   "metadata": {},
   "outputs": [],
   "source": [
    "# Optional: Apply Hierarchical Clustering and plot dendrogram\n",
    "from scipy.cluster.hierarchy import dendrogram, linkage\n",
    "\n",
    "linked = linkage(df.drop(columns='cluster'), method='ward')\n",
    "\n",
    "plt.figure(figsize=(10, 5))\n",
    "dendrogram(linked, truncate_mode='lastp', p=20, leaf_rotation=45., leaf_font_size=12.)\n",
    "plt.title('Hierarchical Clustering Dendrogram')\n",
    "plt.xlabel('Sample Index')\n",
    "plt.ylabel('Distance')\n",
    "plt.show()"
   ]
  },
  {
   "cell_type": "markdown",
   "id": "bfa275a9",
   "metadata": {},
   "source": [
    "## ✅ Session Summary\n",
    "- Unsupervised learning finds patterns without labeled data\n",
    "- K-Means and Hierarchical clustering are two common techniques\n",
    "- We used the Iris dataset without labels to group flowers\n",
    "\n",
    "_Reflection: Did the clustering groupings resemble the species you know?_"
   ]
  },
  {
   "cell_type": "markdown",
   "id": "8094ea51",
   "metadata": {},
   "source": [
    "## ⭐ Bonus Exercises"
   ]
  },
  {
   "cell_type": "markdown",
   "id": "870eba99",
   "metadata": {},
   "source": [
    "### 🧪 Bonus 1: Elbow Method for Choosing K\n",
    "Use the Elbow Method to find the optimal number of clusters."
   ]
  },
  {
   "cell_type": "code",
   "execution_count": null,
   "id": "644efafa",
   "metadata": {},
   "outputs": [],
   "source": [
    "# Elbow method to determine best value of k\n",
    "inertias = []\n",
    "for k in range(1, 11):\n",
    "    model = KMeans(n_clusters=k, random_state=42)\n",
    "    model.fit(df.drop(columns='cluster'))\n",
    "    inertias.append(model.inertia_)\n",
    "\n",
    "plt.plot(range(1, 11), inertias, marker='o')\n",
    "plt.xlabel('Number of clusters (k)')\n",
    "plt.ylabel('Inertia')\n",
    "plt.title('Elbow Method for Optimal k')\n",
    "plt.show()"
   ]
  },
  {
   "cell_type": "markdown",
   "id": "901fa6c8",
   "metadata": {},
   "source": [
    "### 🧪 Bonus 2: Silhouette Score for Cluster Quality"
   ]
  },
  {
   "cell_type": "code",
   "execution_count": null,
   "id": "36c7f138",
   "metadata": {},
   "outputs": [],
   "source": [
    "from sklearn.metrics import silhouette_score\n",
    "\n",
    "X = df.drop(columns='cluster')\n",
    "score = silhouette_score(X, df['cluster'])\n",
    "print(f'Silhouette Score for k=3: {score:.3f}')"
   ]
  },
  {
   "cell_type": "markdown",
   "id": "53f1dbc9",
   "metadata": {},
   "source": [
    "### 🧪 Bonus 3: PCA Visualization of Clusters\n",
    "Reduce the dataset to 2D using PCA and color by cluster."
   ]
  },
  {
   "cell_type": "code",
   "execution_count": null,
   "id": "a9dbc8a3",
   "metadata": {},
   "outputs": [],
   "source": [
    "from sklearn.decomposition import PCA\n",
    "\n",
    "pca = PCA(n_components=2)\n",
    "X_pca = pca.fit_transform(X)\n",
    "\n",
    "plt.figure(figsize=(8, 6))\n",
    "plt.scatter(X_pca[:, 0], X_pca[:, 1], c=df['cluster'], cmap='Set1', s=50)\n",
    "plt.title('PCA Projection of Clusters')\n",
    "plt.xlabel('PCA Component 1')\n",
    "plt.ylabel('PCA Component 2')\n",
    "plt.grid(True)\n",
    "plt.show()"
   ]
  }
 ],
 "metadata": {},
 "nbformat": 4,
 "nbformat_minor": 5
}
