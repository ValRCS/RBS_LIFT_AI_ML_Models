{
 "cells": [
  {
   "cell_type": "markdown",
   "id": "aa911db6",
   "metadata": {},
   "source": [
    "# 🧠 Session 2: ML Process Overview + Warm-Up Activity"
   ]
  },
  {
   "cell_type": "markdown",
   "id": "5da38915",
   "metadata": {},
   "source": [
    "## 🕒 00:00–00:20 – ML Workflow – Step-by-Step Process Overview\n",
    "**🎯 Objectives:**\n",
    "- Familiarize participants with the full machine learning pipeline\n",
    "- Explain key steps and their role in developing a successful model\n",
    "\n",
    "**📚 Content:**\n",
    "1. **Define the Problem**\n",
    "   - What are we trying to predict or discover?\n",
    "   - Example: Predict house prices, detect spam, group customers\n",
    "\n",
    "2. **Collect and Prepare Data**\n",
    "   - Data sources, quality, format\n",
    "   - Cleaning, handling missing values, encoding, normalization\n",
    "\n",
    "3. **Split the Data**\n",
    "   - Train/test (and optionally validation) sets\n",
    "   - Reason: avoid data leakage and evaluate generalization\n",
    "\n",
    "4. **Select a Model**\n",
    "   - Depends on problem type (regression, classification, clustering)\n",
    "   - Examples: Linear regression, decision trees, K-means\n",
    "\n",
    "5. **Train the Model**\n",
    "   - Fit model to training data\n",
    "   - Use appropriate loss function and optimizer\n",
    "\n",
    "6. **Evaluate Performance**\n",
    "   - Accuracy, precision/recall, RMSE, confusion matrix\n",
    "   - Cross-validation to reduce variance\n",
    "\n",
    "7. **Tune and Optimize**\n",
    "   - Hyperparameter tuning, regularization, feature selection\n",
    "\n",
    "8. **Deploy & Monitor**\n",
    "   - Turn into usable tool or service\n",
    "   - Monitor model drift and retrain as needed\n",
    "\n",
    "**🖼️ Visual Aid:** ML workflow pipeline diagram (see slides)\n",
    "\n",
    "**💬 Suggested Engagement:**\n",
    "- Ask: “Which of these steps do you think takes the most time in real projects?” "
   ]
  },
  {
   "cell_type": "markdown",
   "id": "906fc8bd",
   "metadata": {},
   "source": [
    "## 🕒 00:20–00:30 – Quick Pair Discussion – ML Problem Classifier\n",
    "**🎯 Objective:**\n",
    "- Help learners apply the ML workflow to real-world scenarios\n",
    "\n",
    "**📝 Activity:**\n",
    "- Present short real-world scenarios:\n",
    "  - Classify spam emails\n",
    "  - Recommend books to users\n",
    "  - Predict product return rates\n",
    "  - Cluster patients based on symptoms\n",
    "\n",
    "- In pairs, students identify:\n",
    "  - ML type (supervised, unsupervised, etc.)\n",
    "  - Features and labels\n",
    "  - Key workflow stages\n",
    "\n",
    "**💡 Follow-up:** 2–3 pairs present briefly, clarify any misconceptions."
   ]
  },
  {
   "cell_type": "markdown",
   "id": "9ce0b9e4",
   "metadata": {},
   "source": [
    "## 🕒 00:30–00:45 – Tools and Environment Setup\n",
    "**🎯 Objectives:**\n",
    "- Ensure readiness for hands-on tasks\n",
    "- Introduce Python, Jupyter/Colab, and ML libraries\n",
    "\n",
    "**📚 Content:**\n",
    "- How to launch Jupyter or open Google Colab\n",
    "- Load a dataset (e.g., Iris or Titanic)\n",
    "- Import libraries: `pandas`, `scikit-learn`, `matplotlib`, `seaborn`\n",
    "\n",
    "**💬 Talk-through:**\n",
    "- `pandas` = data manipulation\n",
    "- `scikit-learn` = ML models\n",
    "- `matplotlib` / `seaborn` = visualizations\n",
    "\n",
    "**🛠️ Preparation Checklist:**\n",
    "- Access to GitHub repo or Colab\n",
    "- Python/Jupyter/Colab working\n",
    "- “Hello ML” notebook available (load data, view `df.head()`)\n",
    "\n",
    "**📌 Pro Tip:** Assign TA or assistant to help with technical issues."
   ]
  },
  {
   "cell_type": "markdown",
   "id": "6334c753",
   "metadata": {},
   "source": [
    "## ✅ Session Wrap-Up\n",
    "**Exit Reflection:**\n",
    "- What step in the ML process are you most curious about?\n",
    "- Use poll, sticky notes, or group discussion."
   ]
  },
  {
   "cell_type": "code",
   "execution_count": null,
   "id": "680a791c",
   "metadata": {},
   "outputs": [],
   "source": [
    "# Hello ML Template: Load Dataset and Preview\n",
    "import pandas as pd\n",
    "\n",
    "# Example: Load Iris dataset\n",
    "from sklearn.datasets import load_iris\n",
    "iris = load_iris(as_frame=True)\n",
    "df = iris.frame\n",
    "df.head()"
   ]
  },
  {
   "cell_type": "code",
   "execution_count": null,
   "id": "c55d49ca",
   "metadata": {},
   "outputs": [],
   "source": [
    "# Check basic info and summary\n",
    "df.info()\n",
    "df.describe()"
   ]
  }
 ],
 "metadata": {
  "language_info": {
   "name": "python"
  }
 },
 "nbformat": 4,
 "nbformat_minor": 5
}
