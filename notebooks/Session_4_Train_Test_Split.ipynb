{
 "cells": [
  {
   "cell_type": "markdown",
   "id": "a9d757c4",
   "metadata": {},
   "source": [
    "# 🧠 Session 4: Train-Test Split & Hands-On Activity"
   ]
  },
  {
   "cell_type": "markdown",
   "id": "5144255a",
   "metadata": {},
   "source": [
    "## 🕒 00:00–00:10 — Why Train-Test Split Matters\n",
    "In this part of the session, we explore why it's important to divide data into training and testing (and optionally validation) sets.\n",
    "\n",
    "**Key Concepts:**\n",
    "- Training Set: Used to train the model\n",
    "- Test Set: Used to evaluate generalization\n",
    "- Validation Set (optional): Used for hyperparameter tuning\n",
    "\n",
    "**Why not train and test on the same data?**\n",
    "- Risk of **overfitting**\n",
    "- Poor generalization to unseen data\n",
    "- Artificially high accuracy\n",
    "\n",
    "_Discuss with a partner: What could go wrong if we skip this step?_"
   ]
  },
  {
   "cell_type": "markdown",
   "id": "82568adf",
   "metadata": {},
   "source": [
    "## 🕒 00:10–00:20 — `train_test_split()` in scikit-learn\n",
    "We’ll now use scikit-learn’s `train_test_split()` to split our dataset.\n",
    "\n",
    "**Typical Syntax:**\n",
    "```python\n",
    "X_train, X_test, y_train, y_test = train_test_split(X, y, test_size=0.3, random_state=42)\n",
    "```\n",
    "- `test_size` = proportion to reserve for testing\n",
    "- `random_state` = reproducibility\n",
    "\n",
    "_Try changing `test_size` to 0.2 or 0.5 and see how it affects the split._"
   ]
  },
  {
   "cell_type": "code",
   "execution_count": null,
   "id": "9fa3be2b",
   "metadata": {},
   "outputs": [],
   "source": [
    "# Load dataset and preview\n",
    "from sklearn.datasets import load_iris\n",
    "import pandas as pd\n",
    "\n",
    "iris = load_iris(as_frame=True)\n",
    "df = iris.frame\n",
    "df.head()"
   ]
  },
  {
   "cell_type": "code",
   "execution_count": null,
   "id": "2ec51277",
   "metadata": {},
   "outputs": [],
   "source": [
    "# Explore dataset\n",
    "df.info()\n",
    "df.describe()\n",
    "df['target'].value_counts()"
   ]
  },
  {
   "cell_type": "code",
   "execution_count": null,
   "id": "3e1baee7",
   "metadata": {},
   "outputs": [],
   "source": [
    "# Prepare features and labels, then split the data\n",
    "from sklearn.model_selection import train_test_split\n",
    "\n",
    "X = df.drop(columns='target')\n",
    "y = df['target']\n",
    "\n",
    "X_train, X_test, y_train, y_test = train_test_split(X, y, test_size=0.3, random_state=1)\n",
    "\n",
    "print(f'Training size: {X_train.shape}, Testing size: {X_test.shape}')"
   ]
  },
  {
   "cell_type": "markdown",
   "id": "90f7764d",
   "metadata": {},
   "source": [
    "## 🕒 00:20–00:45 — 🧪 Hands-On Task\n",
    "**Instructions:**\n",
    "1. Load and explore the Iris dataset\n",
    "2. Perform a train-test split\n",
    "3. Optionally visualize features and distributions"
   ]
  },
  {
   "cell_type": "code",
   "execution_count": null,
   "id": "5439fac4",
   "metadata": {},
   "outputs": [],
   "source": [
    "# Optional: Visualize pairwise features\n",
    "import seaborn as sns\n",
    "import matplotlib.pyplot as plt\n",
    "\n",
    "sns.pairplot(df, hue='target')\n",
    "plt.show()"
   ]
  },
  {
   "cell_type": "markdown",
   "id": "ff2bc4bc",
   "metadata": {},
   "source": [
    "## ✅ Summary & Reflection\n",
    "- Why is splitting data essential for model evaluation?\n",
    "- What happens if you don’t use a `random_state`?\n",
    "- How might data leakage still happen?\n",
    "\n",
    "_Reflection prompt: What did you find easiest/hardest about this step?_"
   ]
  }
 ],
 "metadata": {},
 "nbformat": 4,
 "nbformat_minor": 5
}
