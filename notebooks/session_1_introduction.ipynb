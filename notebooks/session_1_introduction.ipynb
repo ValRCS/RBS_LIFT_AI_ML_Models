{
 "cells": [
  {
   "cell_type": "markdown",
   "id": "2af126e1",
   "metadata": {},
   "source": [
    "# 🧠 Session 1: Kickoff & Introduction to Machine Learning\n",
    "\n",
    "Welcome to the first session of the *Machine Learning Foundation* course! In this session, we will cover the basics of Machine Learning, the different types, and key concepts needed to get started."
   ]
  },
  {
   "cell_type": "markdown",
   "id": "3e0c9aa7",
   "metadata": {},
   "source": [
    "## 🕒 00:00–00:10 – Course Kickoff and Orientation\n",
    "- Instructor and participant introductions\n",
    "- Course goals and structure\n",
    "- Topics to be covered\n",
    "- Tools and environment setup (Python, Jupyter/Colab, GitHub)\n",
    "\n",
    "**Icebreaker**: In one word, what do you expect from this course?\n",
    "\n",
    "![AI Team](https://upload.wikimedia.org/wikipedia/commons/thumb/4/4f/Artificial_Intelligence_History.svg/640px-Artificial_Intelligence_History.svg.png)"
   ]
  },
  {
   "cell_type": "markdown",
   "id": "75f89392",
   "metadata": {},
   "source": [
    "## 🕒 00:10–00:25 – What Is Machine Learning?\n",
    "**Definition:** Machine Learning (ML) is a field of computer science that focuses on building systems that learn from and make decisions based on data.\n",
    "\n",
    "**Difference from Traditional Programming:**\n",
    "```\n",
    "Traditional Programming: Data + Rules → Output\n",
    "Machine Learning: Data + Output → Rules (Model)\n",
    "```\n",
    "\n",
    "### Real-world Applications:\n",
    "- Spam filtering\n",
    "- Recommender systems (e.g. Netflix, YouTube)\n",
    "- Voice recognition (e.g. Siri, Alexa)\n",
    "- Fraud detection\n",
    "\n",
    "![ML Examples](https://upload.wikimedia.org/wikipedia/commons/6/6b/Applications_of_Machine_Learning.png)"
   ]
  },
  {
   "cell_type": "markdown",
   "id": "77694268",
   "metadata": {},
   "source": [
    "## 🕒 00:25–00:35 – Types of Machine Learning\n",
    "\n",
    "### 1. **Supervised Learning**\n",
    "- Input: Features + Labels\n",
    "- Goal: Predict output\n",
    "- Example: Predict house price\n",
    "\n",
    "### 2. **Unsupervised Learning**\n",
    "- Input: Features only\n",
    "- Goal: Find structure or patterns\n",
    "- Example: Group similar customers\n",
    "\n",
    "### 3. **Reinforcement Learning**\n",
    "- Input: Environment\n",
    "- Goal: Maximize reward over time\n",
    "- Example: Robot learning to walk\n",
    "\n",
    "![ML Types](https://upload.wikimedia.org/wikipedia/commons/6/6a/Machine_learning_types.png)"
   ]
  },
  {
   "cell_type": "markdown",
   "id": "a98bff13",
   "metadata": {},
   "source": [
    "## 🕒 00:35–00:45 – Key Concepts & ML Workflow\n",
    "\n",
    "### Key Terms:\n",
    "- **Feature**: Input variable\n",
    "- **Label**: Output variable (target)\n",
    "- **Model**: A mathematical structure to map input to output\n",
    "- **Training**: Fitting the model to data\n",
    "- **Testing**: Evaluating model performance on new data\n",
    "\n",
    "### Common Problems:\n",
    "- **Overfitting**: Model learns noise, not general patterns\n",
    "- **Underfitting**: Model too simple to capture data patterns\n",
    "\n",
    "### ML Pipeline Overview:\n",
    "```text\n",
    "1. Data Collection\n",
    "2. Data Cleaning and Preprocessing\n",
    "3. Model Training\n",
    "4. Model Evaluation\n",
    "5. Deployment\n",
    "```\n",
    "\n",
    "![ML Process](https://upload.wikimedia.org/wikipedia/commons/thumb/7/7a/MLpipeline.svg/640px-MLpipeline.svg.png)"
   ]
  },
  {
   "cell_type": "markdown",
   "id": "6efe79ee",
   "metadata": {},
   "source": [
    "## ✅ Summary and Exit Prompt\n",
    "By the end of this session, you should be able to:\n",
    "- Explain what machine learning is\n",
    "- Recognize types of ML and their applications\n",
    "- Understand the core concepts and ML process\n",
    "\n",
    "**Reflection**: What’s one term or concept you found new or interesting today?"
   ]
  }
 ],
 "metadata": {},
 "nbformat": 4,
 "nbformat_minor": 5
}
